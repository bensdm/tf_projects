{
 "cells": [
  {
   "cell_type": "code",
   "execution_count": 1,
   "metadata": {},
   "outputs": [],
   "source": [
    "import numpy as np\n",
    "import urllib.request\n",
    "import tarfile\n",
    "import os\n",
    "import zipfile\n",
    "import gzip\n",
    "import os\n",
    "from glob import glob\n",
    "from tqdm import tqdm"
   ]
  },
  {
   "cell_type": "code",
   "execution_count": 2,
   "metadata": {},
   "outputs": [],
   "source": [
    "class TqdmUpTo(tqdm):\n",
    "    \"\"\"Alternative Class-based version of the above.\n",
    "    Provides `update_to(n)` which uses `tqdm.update(delta_n)`.\n",
    "    Inspired by [twine#242](https://github.com/pypa/twine/pull/242),\n",
    "    [here](https://github.com/pypa/twine/commit/42e55e06).\n",
    "    \"\"\"\n",
    "\n",
    "    def update_to(self, b=1, bsize=1, tsize=None):\n",
    "        \"\"\"\n",
    "        b  : int, optional\n",
    "            Number of blocks transferred so far [default: 1].\n",
    "        bsize  : int, optional\n",
    "            Size of each block (in tqdm units) [default: 1].\n",
    "        tsize  : int, optional\n",
    "            Total size (in tqdm units). If [default: None] remains unchanged.\n",
    "        \"\"\"\n",
    "        if tsize is not None:\n",
    "            self.total = tsize\n",
    "        self.update(b * bsize - self.n) # will also set self.n = b * bsize"
   ]
  },
  {
   "cell_type": "markdown",
   "metadata": {},
   "source": [
    "### The datasets\n",
    "### MNIST"
   ]
  },
  {
   "cell_type": "code",
   "execution_count": 3,
   "metadata": {},
   "outputs": [],
   "source": [
    "# http://yann.lecun.com/exdb/mnist/"
   ]
  },
  {
   "cell_type": "code",
   "execution_count": 4,
   "metadata": {},
   "outputs": [
    {
     "name": "stderr",
     "output_type": "stream",
     "text": [
      "9920512it [00:01, 7506137.58it/s]                             \n",
      "32768it [00:00, 142952.49it/s]           \n"
     ]
    }
   ],
   "source": [
    "labels_filename = 'train-labels-idx1-ubyte.gz'\n",
    "images_filename = 'train-images-idx3-ubyte.gz'\n",
    "\n",
    "url = \"http://yann.lecun.com/exdb/mnist/\"\n",
    "with TqdmUpTo() as t:  # all optional kwargs\n",
    "    urllib.request.urlretrieve(url+images_filename, 'MNIST_'+images_filename, reporthook=t.update_to, data=None)\n",
    "with TqdmUpTo() as t:  # all optional kwargs\n",
    "    urllib.request.urlretrieve(url+labels_filename, 'MNIST_'+labels_filename, reporthook=t.update_to, data=None)"
   ]
  },
  {
   "cell_type": "markdown",
   "metadata": {},
   "source": [
    "### The EMNIST Dataset "
   ]
  },
  {
   "cell_type": "code",
   "execution_count": 5,
   "metadata": {},
   "outputs": [],
   "source": [
    "# https://www.nist.gov/itl/iad/image-group/emnist-dataset"
   ]
  },
  {
   "cell_type": "code",
   "execution_count": 6,
   "metadata": {},
   "outputs": [
    {
     "name": "stderr",
     "output_type": "stream",
     "text": [
      "561758208it [00:42, 13251887.89it/s]                               \n"
     ]
    }
   ],
   "source": [
    "url = \"http://biometrics.nist.gov/cs_links/EMNIST/gzip.zip\"\n",
    "filename = \"gzip.zip\"\n",
    "with TqdmUpTo() as t:  # all optional kwargs\n",
    "    urllib.request.urlretrieve(url, filename, reporthook=t.update_to, data=None)"
   ]
  },
  {
   "cell_type": "code",
   "execution_count": 7,
   "metadata": {},
   "outputs": [],
   "source": [
    "zip_ref = zipfile.ZipFile(filename, 'r')\n",
    "zip_ref.extractall('.')\n",
    "zip_ref.close()"
   ]
  },
  {
   "cell_type": "code",
   "execution_count": 8,
   "metadata": {},
   "outputs": [],
   "source": [
    "if os.path.isfile(filename):\n",
    "    os.remove(filename)"
   ]
  },
  {
   "cell_type": "markdown",
   "metadata": {},
   "source": [
    "### A MNIST-like fashion product database"
   ]
  },
  {
   "cell_type": "code",
   "execution_count": 9,
   "metadata": {},
   "outputs": [],
   "source": [
    "# https://github.com/zalandoresearch/fashion-mnist"
   ]
  },
  {
   "cell_type": "code",
   "execution_count": 10,
   "metadata": {},
   "outputs": [
    {
     "name": "stderr",
     "output_type": "stream",
     "text": [
      "26427392it [00:05, 4569597.86it/s]                              \n"
     ]
    }
   ],
   "source": [
    "url = \"http://fashion-mnist.s3-website.eu-central-1.amazonaws.com/train-images-idx3-ubyte.gz\"\n",
    "filename = \"train-images-idx3-ubyte.gz\"\n",
    "with TqdmUpTo() as t:  # all optional kwargs\n",
    "    urllib.request.urlretrieve(url, filename, reporthook=t.update_to, data=None)"
   ]
  },
  {
   "cell_type": "code",
   "execution_count": 11,
   "metadata": {},
   "outputs": [],
   "source": [
    "url = \"http://fashion-mnist.s3-website.eu-central-1.amazonaws.com/train-labels-idx1-ubyte.gz\"\n",
    "filename = \"train-labels-idx1-ubyte.gz\"\n",
    "_ = urllib.request.urlretrieve(url, filename)"
   ]
  }
 ],
 "metadata": {
  "kernelspec": {
   "display_name": "Python 3",
   "language": "python",
   "name": "python3"
  },
  "language_info": {
   "codemirror_mode": {
    "name": "ipython",
    "version": 3
   },
   "file_extension": ".py",
   "mimetype": "text/x-python",
   "name": "python",
   "nbconvert_exporter": "python",
   "pygments_lexer": "ipython3",
   "version": "3.5.2"
  }
 },
 "nbformat": 4,
 "nbformat_minor": 2
}
